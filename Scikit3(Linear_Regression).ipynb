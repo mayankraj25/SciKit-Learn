{
  "nbformat": 4,
  "nbformat_minor": 0,
  "metadata": {
    "colab": {
      "provenance": [],
      "authorship_tag": "ABX9TyNkoa8QXil/bSoEyGbvd/Rm",
      "include_colab_link": true
    },
    "kernelspec": {
      "name": "python3",
      "display_name": "Python 3"
    },
    "language_info": {
      "name": "python"
    }
  },
  "cells": [
    {
      "cell_type": "markdown",
      "metadata": {
        "id": "view-in-github",
        "colab_type": "text"
      },
      "source": [
        "<a href=\"https://colab.research.google.com/github/mayankraj25/SciKit-Learn/blob/main/Scikit3(Linear_Regression).ipynb\" target=\"_parent\"><img src=\"https://colab.research.google.com/assets/colab-badge.svg\" alt=\"Open In Colab\"/></a>"
      ]
    },
    {
      "cell_type": "code",
      "execution_count": 8,
      "metadata": {
        "colab": {
          "base_uri": "https://localhost:8080/"
        },
        "id": "L7PIK1CfY7nG",
        "outputId": "05cb4bf7-ab7c-48c4-853c-96657b34315a"
      },
      "outputs": [
        {
          "output_type": "stream",
          "name": "stdout",
          "text": [
            "[0.71912284 1.76401657 2.70965883 ... 4.46877017 1.18751119 2.00940251]\n",
            "Accuracy :  0.5757877060324524\n",
            "Accuracy :  0.5757877060324524\n"
          ]
        }
      ],
      "source": [
        "from sklearn import datasets\n",
        "from sklearn.model_selection import train_test_split\n",
        "from sklearn import linear_model\n",
        "import matplotlib.pyplot as plt\n",
        "from sklearn import metrics\n",
        "\n",
        "housing=datasets.fetch_california_housing()\n",
        "X=housing.data\n",
        "y=housing.target\n",
        "\n",
        "X_train,X_test,y_train,y_test=train_test_split(X,y,test_size=0.2,random_state=42)\n",
        "model=linear_model.LinearRegression()\n",
        "model.fit(X_train,y_train)\n",
        "predictions=model.predict(X_test)\n",
        "print(predictions)\n",
        "#You use r2 score for regression and accuracy_score for classification in the metrics module\n",
        "test_accuracy=metrics.r2_score(y_test,predictions)\n",
        "print(\"Accuracy : \",test_accuracy)\n",
        "#same this just an alternate method\n",
        "accuracy=model.score(X_test,y_test)\n",
        "print(\"Accuracy : \",accuracy)"
      ]
    }
  ]
}